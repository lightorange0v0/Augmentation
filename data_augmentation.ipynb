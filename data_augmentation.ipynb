{
 "cells": [
  {
   "cell_type": "code",
   "execution_count": 5,
   "metadata": {},
   "outputs": [],
   "source": [
    "import os\n",
    "from PIL import Image\n",
    "import numpy as np\n",
    "import albumentations as albu"
   ]
  },
  {
   "cell_type": "code",
   "execution_count": 11,
   "metadata": {},
   "outputs": [],
   "source": [
    "def get_training_augmentation():\n",
    "    train_transform = [\n",
    "\n",
    "        albu.HorizontalFlip(p=0.5),\n",
    "\n",
    "        albu.ShiftScaleRotate(scale_limit=2.0, rotate_limit=90, shift_limit=0.1, p=1, border_mode=0),\n",
    "\n",
    "        albu.PadIfNeeded(min_height=320, min_width=320, always_apply=True, border_mode=0),\n",
    "        albu.RandomCrop(height=320, width=320, always_apply=True),\n",
    "\n",
    "        albu.GaussNoise(p=0.2),\n",
    "        albu.Perspective(p=0.5),\n",
    "\n",
    "        albu.OneOf(\n",
    "            [\n",
    "                albu.CLAHE(p=1),\n",
    "                albu.RandomBrightness(p=1),\n",
    "                albu.RandomGamma(p=1),\n",
    "            ],\n",
    "            p=0.9,\n",
    "        ),\n",
    "\n",
    "        albu.OneOf(\n",
    "            [\n",
    "                albu.Sharpen(p=1),\n",
    "                albu.Blur(blur_limit=3, p=1),\n",
    "                albu.MotionBlur(blur_limit=3, p=1),\n",
    "            ],\n",
    "            p=0.9,\n",
    "        ),\n",
    "\n",
    "        albu.OneOf(\n",
    "            [\n",
    "                albu.RandomContrast(p=1),\n",
    "                albu.HueSaturationValue(p=1),\n",
    "            ],\n",
    "            p=0.9,\n",
    "        ),\n",
    "    ]\n",
    "    return albu.Compose(train_transform)"
   ]
  },
  {
   "cell_type": "code",
   "execution_count": 13,
   "metadata": {},
   "outputs": [],
   "source": [
    "augmentation = get_training_augmentation()\n",
    "\n",
    "for image_file in os.listdir('./images'): # images 있는 디렉토리\n",
    "    if image_file.lower().endswith('.jpg'):\n",
    "        image = Image.open(os.path.join('./images', image_file))\n",
    "        image = image.resize((320, 320)) # 이미지 크기 다 동일하게 맞춰줌\n",
    "        image = image.convert(\"RGB\")\n",
    "        image = np.array(image)\n",
    "        \n",
    "        original = Image.fromarray(image)\n",
    "        original.save(f\"./augmented_images/{image_file}_0.jpg\")\n",
    "        \n",
    "        for i in range(20):  # 증강된 이미지 20개 생성 -> 임의로 수정 가능\n",
    "            augmented = augmentation(image=image)\n",
    "            augmented_image = augmented[\"image\"]\n",
    "            result = Image.fromarray(augmented_image)\n",
    "            result = result.convert(\"RGB\")\n",
    "            result.save(f\"./augmented_images/{image_file}_{i}.jpg\") # 결과 디렉토리에 저장"
   ]
  }
 ],
 "metadata": {
  "kernelspec": {
   "display_name": "copd",
   "language": "python",
   "name": "python3"
  },
  "language_info": {
   "codemirror_mode": {
    "name": "ipython",
    "version": 3
   },
   "file_extension": ".py",
   "mimetype": "text/x-python",
   "name": "python",
   "nbconvert_exporter": "python",
   "pygments_lexer": "ipython3",
   "version": "3.9.17"
  },
  "orig_nbformat": 4
 },
 "nbformat": 4,
 "nbformat_minor": 2
}
